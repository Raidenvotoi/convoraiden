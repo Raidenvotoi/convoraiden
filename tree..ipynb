{
 "cells": [
  {
   "cell_type": "code",
   "execution_count": 4,
   "metadata": {},
   "outputs": [
    {
     "name": "stdout",
     "output_type": "stream",
     "text": [
      "Frequent itemsets:\n",
      "frozenset({'E'})\n",
      "frozenset({'B'})\n",
      "frozenset({'C'})\n",
      "frozenset({'F'})\n",
      "frozenset({'A'})\n",
      "frozenset({'D'})\n",
      "frozenset({'G'})\n",
      "frozenset({'H'})\n",
      "frozenset({'J'})\n",
      "frozenset({'I'})\n",
      "frozenset({'K'})\n",
      "\n",
      "Association rules:\n"
     ]
    }
   ],
   "source": [
    "from itertools import combinations\n",
    "from collections import defaultdict\n",
    "\n",
    "def generate_candidates(prev_itemsets, k):\n",
    "    candidates = set()\n",
    "    for itemset1 in prev_itemsets:\n",
    "        for itemset2 in prev_itemsets:\n",
    "            if len(itemset1.union(itemset2)) == k:\n",
    "                candidates.add(itemset1.union(itemset2))\n",
    "    return candidates\n",
    "\n",
    "def count_support(transactions, itemsets):\n",
    "    support_counts = defaultdict(int)\n",
    "    for transaction in transactions:\n",
    "        for itemset in itemsets:\n",
    "            if itemset.issubset(transaction):\n",
    "                support_counts[itemset] += 1\n",
    "    return support_counts\n",
    "\n",
    "def apriori(transactions, min_support, min_confidence):\n",
    "    itemsets = [frozenset([item]) for item in set.union(*transactions)]\n",
    "    frequent_itemsets = []\n",
    "    for k in range(1, len(itemsets[0]) + 1):\n",
    "        candidates = generate_candidates(itemsets, k)\n",
    "        support_counts = count_support(transactions, candidates)\n",
    "        frequent_itemsets.extend([itemset for itemset, support in support_counts.items() if support >= min_support])\n",
    "        itemsets = [itemset for itemset in candidates if support_counts[itemset] >= min_support]\n",
    "    return frequent_itemsets\n",
    "\n",
    "def generate_association_rules(frequent_itemsets, transactions, min_confidence):\n",
    "    association_rules = []\n",
    "    for itemset in frequent_itemsets:\n",
    "        if len(itemset) > 1:\n",
    "            subsets = [frozenset(subset) for i in range(1, len(itemset)) for subset in combinations(itemset, i)]\n",
    "            for antecedent in subsets:\n",
    "                consequent = itemset.difference(antecedent)\n",
    "                confidence = count_support(transactions, [itemset])[itemset] / count_support(transactions, [antecedent])[antecedent]\n",
    "                if confidence >= min_confidence:\n",
    "                    association_rules.append((antecedent, consequent, confidence))\n",
    "    return association_rules\n",
    "\n",
    "# Example usage:\n",
    "transactions = [\n",
    "    {'A', 'B', 'C', 'D', 'E', 'F'},\n",
    "    {'B', 'C', 'D', 'E', 'F', 'G'},\n",
    "    {'A', 'D', 'E', 'H'},\n",
    "    {'A', 'D', 'F', 'I', 'J'},\n",
    "    {'B', 'D', 'E', 'K'}\n",
    "]\n",
    "\n",
    "min_support = 0.6\n",
    "min_confidence = 0.8\n",
    "\n",
    "frequent_itemsets = apriori(transactions, min_support, min_confidence)\n",
    "association_rules = generate_association_rules(frequent_itemsets, transactions, min_confidence)\n",
    "\n",
    "print(\"Frequent itemsets:\")\n",
    "for itemset in frequent_itemsets:\n",
    "    print(itemset)\n",
    "\n",
    "print(\"\\nAssociation rules:\")\n",
    "for antecedent, consequent, confidence in association_rules:\n",
    "    print(f\"{antecedent} => {consequent} (confidence: {confidence:.2f})\")\n"
   ]
  },
  {
   "cell_type": "code",
   "execution_count": 21,
   "metadata": {},
   "outputs": [],
   "source": [
    "import pandas as pd\n",
    "a=pd.read_excel(\"borrow.xlsx\")\n",
    "a.drop(columns=[\"ID\"],inplace=True)"
   ]
  },
  {
   "cell_type": "code",
   "execution_count": 2,
   "metadata": {},
   "outputs": [
    {
     "name": "stdout",
     "output_type": "stream",
     "text": [
      "   value\n",
      "0     10\n",
      "1     20\n",
      "2     30\n",
      "3     40\n",
      "4     50\n",
      "5     60\n",
      "6     70\n",
      "7     80\n",
      "8     90\n",
      "9    100\n"
     ]
    }
   ],
   "source": [
    "import pandas as pd\n",
    "\n",
    "# Định nghĩa tập dữ liệu\n",
    "data = {'value': [10, 20, 30, 40, 50, 60, 70, 80, 90, 100, 200]}\n",
    "df = pd.DataFrame(data)\n",
    "\n",
    "# Tính toán Q1, Q3 và IQR\n",
    "Q1 = df['value'].quantile(0.25)\n",
    "Q3 = df['value'].quantile(0.75)\n",
    "IQR = Q3 - Q1\n",
    "\n",
    "# Xác định giới hạn dưới và giới hạn trên\n",
    "lower_bound = Q1 - 1.5 * IQR\n",
    "upper_bound = Q3 + 1.5 * IQR\n",
    "h=(df['value'] >= lower_bound) & (df['value'] <= upper_bound)\n",
    "# Loại bỏ các giá trị ngoại lai\n",
    "filtered_data = df[(df['value'] >= lower_bound) & (df['value'] <= upper_bound)]\n",
    "\n",
    "print(filtered_data)\n"
   ]
  },
  {
   "cell_type": "code",
   "execution_count": 22,
   "metadata": {},
   "outputs": [
    {
     "data": {
      "text/plain": [
       "0    125.0\n",
       "1    100.0\n",
       "2     70.0\n",
       "3    120.0\n",
       "4     95.0\n",
       "5     60.0\n",
       "6    220.0\n",
       "7     85.0\n",
       "8     75.0\n",
       "9     90.0\n",
       "Name: Income, dtype: Float64"
      ]
     },
     "execution_count": 22,
     "metadata": {},
     "output_type": "execute_result"
    }
   ],
   "source": [
    "a[\"Income\"]=(a[\"Income\"].str.replace(\"K\",\"\")).astype(\"Float64\")\n",
    "a[\"Income\"]"
   ]
  },
  {
   "cell_type": "code",
   "execution_count": 23,
   "metadata": {},
   "outputs": [
    {
     "data": {
      "text/plain": [
       "Owner        object\n",
       "Status       object\n",
       "Income      Float64\n",
       "Borrower     object\n",
       "dtype: object"
      ]
     },
     "execution_count": 23,
     "metadata": {},
     "output_type": "execute_result"
    }
   ],
   "source": [
    "a.dtypes"
   ]
  },
  {
   "cell_type": "code",
   "execution_count": 24,
   "metadata": {},
   "outputs": [
    {
     "data": {
      "text/html": [
       "<div>\n",
       "<style scoped>\n",
       "    .dataframe tbody tr th:only-of-type {\n",
       "        vertical-align: middle;\n",
       "    }\n",
       "\n",
       "    .dataframe tbody tr th {\n",
       "        vertical-align: top;\n",
       "    }\n",
       "\n",
       "    .dataframe thead th {\n",
       "        text-align: right;\n",
       "    }\n",
       "</style>\n",
       "<table border=\"1\" class=\"dataframe\">\n",
       "  <thead>\n",
       "    <tr style=\"text-align: right;\">\n",
       "      <th></th>\n",
       "      <th>Income</th>\n",
       "    </tr>\n",
       "  </thead>\n",
       "  <tbody>\n",
       "    <tr>\n",
       "      <th>count</th>\n",
       "      <td>10.0</td>\n",
       "    </tr>\n",
       "    <tr>\n",
       "      <th>mean</th>\n",
       "      <td>104.0</td>\n",
       "    </tr>\n",
       "    <tr>\n",
       "      <th>std</th>\n",
       "      <td>45.631373</td>\n",
       "    </tr>\n",
       "    <tr>\n",
       "      <th>min</th>\n",
       "      <td>60.0</td>\n",
       "    </tr>\n",
       "    <tr>\n",
       "      <th>25%</th>\n",
       "      <td>77.5</td>\n",
       "    </tr>\n",
       "    <tr>\n",
       "      <th>50%</th>\n",
       "      <td>92.5</td>\n",
       "    </tr>\n",
       "    <tr>\n",
       "      <th>75%</th>\n",
       "      <td>115.0</td>\n",
       "    </tr>\n",
       "    <tr>\n",
       "      <th>max</th>\n",
       "      <td>220.0</td>\n",
       "    </tr>\n",
       "  </tbody>\n",
       "</table>\n",
       "</div>"
      ],
      "text/plain": [
       "          Income\n",
       "count       10.0\n",
       "mean       104.0\n",
       "std    45.631373\n",
       "min         60.0\n",
       "25%         77.5\n",
       "50%         92.5\n",
       "75%        115.0\n",
       "max        220.0"
      ]
     },
     "execution_count": 24,
     "metadata": {},
     "output_type": "execute_result"
    }
   ],
   "source": [
    "a.describe()"
   ]
  },
  {
   "cell_type": "code",
   "execution_count": 25,
   "metadata": {},
   "outputs": [
    {
     "data": {
      "text/plain": [
       "array([1, 2, 0], dtype=int64)"
      ]
     },
     "execution_count": 25,
     "metadata": {},
     "output_type": "execute_result"
    }
   ],
   "source": [
    "from sklearn.preprocessing import LabelEncoder\n",
    "\n",
    "# Khởi tạo LabelEncoder\n",
    "label_encoder = LabelEncoder()\n",
    "x=[i for i in a.columns if i!=\"ID\" and i!=\"Borrower\"] \n",
    "x=label_encoder.fit_transform(x)\n",
    "x"
   ]
  },
  {
   "cell_type": "code",
   "execution_count": 1,
   "metadata": {},
   "outputs": [
    {
     "name": "stdout",
     "output_type": "stream",
     "text": [
      "Trung bình của tích hai mặt xuất hiện: 12.25\n"
     ]
    }
   ],
   "source": [
    "# Tính trung bình của tích hai mặt xuất hiện\n",
    "total = 0\n",
    "for i in range(1, 7):\n",
    "    for j in range(1, 7):\n",
    "        total += i * j\n",
    "\n",
    "average_product = total / 36\n",
    "\n",
    "print(\"Trung bình của tích hai mặt xuất hiện:\", average_product)\n"
   ]
  },
  {
   "cell_type": "code",
   "execution_count": 2,
   "metadata": {},
   "outputs": [
    {
     "name": "stdout",
     "output_type": "stream",
     "text": [
      "a1\n",
      "b1\n",
      "a2\n",
      "b2\n"
     ]
    }
   ],
   "source": [
    "import threading\n",
    "i=0\n",
    "import  time\n",
    "\n",
    "def p1():\n",
    "    global i\n",
    "    while(i!=0):\n",
    "        time.sleep(1)\n",
    "        \n",
    "    print (\"a1\")\n",
    "    i+=1\n",
    "    while(i!=2):\n",
    "        time.sleep(1)\n",
    "    print(\"a2\")\n",
    "    i+=1\n",
    "def p2():\n",
    "    global i\n",
    "    while(i!=1):\n",
    "        time.sleep(1)\n",
    "        \n",
    "    print (\"b1\")\n",
    "    i+=1\n",
    "    while(i!=3):\n",
    "        time.sleep(1)\n",
    "    print(\"b2\")\n",
    "    i+=1\n",
    "t1=threading.Thread(target=p1)\n",
    "t2=threading.Thread(target=p2)\n",
    "t1.start()\n",
    "t2.start()\n",
    "t1.join()\n",
    "t2.join()"
   ]
  },
  {
   "cell_type": "code",
   "execution_count": null,
   "metadata": {},
   "outputs": [],
   "source": []
  }
 ],
 "metadata": {
  "kernelspec": {
   "display_name": "base",
   "language": "python",
   "name": "python3"
  },
  "language_info": {
   "codemirror_mode": {
    "name": "ipython",
    "version": 3
   },
   "file_extension": ".py",
   "mimetype": "text/x-python",
   "name": "python",
   "nbconvert_exporter": "python",
   "pygments_lexer": "ipython3",
   "version": "3.11.5"
  }
 },
 "nbformat": 4,
 "nbformat_minor": 2
}
