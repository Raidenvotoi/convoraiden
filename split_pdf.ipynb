{
 "cells": [
  {
   "cell_type": "markdown",
   "metadata": {},
   "source": [
    "import aspose.pdf as ap"
   ]
  },
  {
   "cell_type": "code",
   "execution_count": 1,
   "metadata": {},
   "outputs": [],
   "source": [
    "import aspose.pdf as ap"
   ]
  },
  {
   "cell_type": "code",
   "execution_count": 2,
   "metadata": {},
   "outputs": [],
   "source": []
  },
  {
   "cell_type": "code",
   "execution_count": 6,
   "metadata": {},
   "outputs": [],
   "source": [
    "import aspose.pdf as ap\n",
    "\n",
    "# Đường dẫn tới tệp PDF đầu vào và tên tệp mới để lưu\n",
    "input_file_path = \"06.-Chet-vi-chung-khoan.pdf\"\n",
    "output_file_path = \"output.pdf\"\n",
    "\n",
    "# Mảng chứa các số trang cần lấy\n",
    "pages_to_extract = [3, 7, 8, 9]\n",
    "\n",
    "# Mở tệp PDF đầu vào\n",
    "doc = ap.Document(input_file_path)\n",
    "\n",
    "# Tạo một đối tượng mới để chứa các trang được trích xuất\n",
    "output_doc = ap.Document()\n",
    "\n",
    "# Lặp qua các trang trong tệp PDF đầu vào\n",
    "for page_number in pages_to_extract:\n",
    "    # Lấy trang thứ page_number và thêm vào tài liệu đầu ra\n",
    "    output_doc.pages.add(doc.pages[page_number - 1])\n",
    "\n",
    "# Lưu tài liệu đầu ra vào tệp mới\n",
    "output_doc.save(output_file_path)\n"
   ]
  },
  {
   "cell_type": "code",
   "execution_count": 7,
   "metadata": {},
   "outputs": [
    {
     "data": {
      "text/plain": [
       "<aspose.pdf.Page object at 0x0000019360BFF210>"
      ]
     },
     "execution_count": 7,
     "metadata": {},
     "output_type": "execute_result"
    }
   ],
   "source": [
    "doc.pages[3]"
   ]
  }
 ],
 "metadata": {
  "kernelspec": {
   "display_name": "base",
   "language": "python",
   "name": "python3"
  },
  "language_info": {
   "codemirror_mode": {
    "name": "ipython",
    "version": 3
   },
   "file_extension": ".py",
   "mimetype": "text/x-python",
   "name": "python",
   "nbconvert_exporter": "python",
   "pygments_lexer": "ipython3",
   "version": "3.11.5"
  }
 },
 "nbformat": 4,
 "nbformat_minor": 2
}
